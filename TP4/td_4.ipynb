{
 "cells": [
  {
   "cell_type": "markdown",
   "metadata": {},
   "source": [
    "Question 1, 2, 3:\n",
    "\n",
    "None\n",
    "\n",
    "Question 4:\n",
    "\n",
    "La suite n'est plus aléatoire\n",
    "\n",
    "Question 5:\n",
    "\n",
    "(a) Ce générateur satisfait le test spectral\n",
    "\n",
    "(b) None\n",
    "\n",
    "(c) Ce générateur ne le satsfait pas\n",
    "\n",
    "(d)\n",
    "\n",
    "Question 6:\n",
    "\n",
    "`list = nbr[]\n",
    "    list.append(10 * random(0, 1))`\n",
    "\n",
    "Que se passe t'il?"
   ]
  }
 ],
 "metadata": {
  "language_info": {
   "name": "python"
  }
 },
 "nbformat": 4,
 "nbformat_minor": 2
}
